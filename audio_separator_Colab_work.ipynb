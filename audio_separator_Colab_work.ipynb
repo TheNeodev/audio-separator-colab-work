{
  "nbformat": 4,
  "nbformat_minor": 0,
  "metadata": {
    "colab": {
      "provenance": [],
      "authorship_tag": "ABX9TyMJx+q5RMZt5Svus1VoToMt",
      "include_colab_link": true
    },
    "kernelspec": {
      "name": "python3",
      "display_name": "Python 3"
    },
    "language_info": {
      "name": "python"
    }
  },
  "cells": [
    {
      "cell_type": "markdown",
      "metadata": {
        "id": "view-in-github",
        "colab_type": "text"
      },
      "source": [
        "<a href=\"https://colab.research.google.com/github/blane187gt/audio-separator-colab-work/blob/main/audio_separator_Colab_work.ipynb\" target=\"_parent\"><img src=\"https://colab.research.google.com/assets/colab-badge.svg\" alt=\"Open In Colab\"/></a>"
      ]
    },
    {
      "cell_type": "markdown",
      "source": [
        "# **AUDIO SEPARATOR COLAB WORK**\n",
        "\n",
        "- colab made by **[blane187gt](https://github.com/blane187gt)**\n",
        "\n",
        "- Audio Separator by **[Beveradb](https://github.com/beveradb)**\n",
        "\n",
        "\n",
        "\n",
        "- UVR5  by **[Anjok07](https://github.com/Anjok07)**\n",
        "\n",
        "- yt_dlp by **[yt_dlp](https://github.com/yt_dlp)**"
      ],
      "metadata": {
        "id": "-NoQ0Kgqo7VL"
      }
    },
    {
      "cell_type": "code",
      "execution_count": null,
      "metadata": {
        "cellView": "form",
        "id": "AhfiL3BEowWg"
      },
      "outputs": [],
      "source": [
        "#@title # **Installation**\n",
        "from IPython.display import clear_output\n",
        "import subprocess\n",
        "import os\n",
        "\n",
        "colab_path = \"/content\"\n",
        "\n",
        "\n",
        "print(\"-----------------------------------------------------\")\n",
        "print(\"   Audio Separator - Colab Notebook Work made with ❤\")\n",
        "print(\"-----------------------------------------------------\")\n",
        "\n",
        "path = \"/content\"\n",
        "\n",
        "!pip install \"audio-separator[gpu]\"\n",
        "!pip install pydub\n",
        "!pip install yt_dlp\n",
        "!pip install gradio\n",
        "!mkdir models\n",
        "!mkdir temp\n",
        "\n",
        "\n",
        "!wget https://github.com/blane187gt/audio-separator-colab-work/raw/refs/heads/main/app.py -O demo.py\n",
        "\n",
        "\n",
        "clear_output()\n",
        "print('Installation done !')"
      ]
    },
    {
      "cell_type": "markdown",
      "source": [
        "## **RUN NO UI**"
      ],
      "metadata": {
        "id": "KOedzvd9o2vi"
      }
    },
    {
      "cell_type": "code",
      "source": [
        "#@title **Audio Downloader for Separation**\n",
        "import os\n",
        "import yt_dlp\n",
        "\n",
        "#@markdown Link:\n",
        "video_url = \"https://youtu.be/D_T-Q1KCLGQ?si=3_4WXBP2kPD03i1W\"  #@param {type:\"string\"}\n",
        "#@markdown You can paste the link to the video/audio from many sites, check the complete list [here](https://github.com/yt-dlp/yt-dlp/blob/master/supportedsites.md)\n",
        "\n",
        "\n",
        "def downloader(url):\n",
        "    ydl_opts = {\n",
        "        'format': 'bestaudio/best',\n",
        "        'postprocessors': [{\n",
        "            'key': 'FFmpegExtractAudio',\n",
        "            'preferredcodec': 'wav',\n",
        "            'preferredquality': '192',\n",
        "        }],\n",
        "        'outtmpl': 'ytdl/%(title)s.%(ext)s',\n",
        "    }\n",
        "\n",
        "    with yt_dlp.YoutubeDL(ydl_opts) as ydl:\n",
        "        ydl.download([url])\n",
        "        info_dict = ydl.extract_info(url, download=True)\n",
        "        file_path = ydl.prepare_filename(info_dict).rsplit('.', 1)[0] + '.wav'\n",
        "\n",
        "\n",
        "downloader(video_url)\n",
        "print(\"Download Complete!\")"
      ],
      "metadata": {
        "cellView": "form",
        "id": "xoYWWaGrpD8j"
      },
      "execution_count": null,
      "outputs": []
    },
    {
      "cell_type": "code",
      "source": [
        "#@title **separate your audio (normal with select model)**\n",
        "\n",
        "\n",
        "import os\n",
        "from audio_separator.separator import Separator\n",
        "\n",
        "input = \"/content/ytdl/TikTok Sangat BERBAHAYA.wav\"#@param {type:\"string\"}\n",
        "\n",
        "model = \"model_bs_roformer_ep_317_sdr_12.9755.ckpt\" #@param [\"model_bs_roformer_ep_317_sdr_12.9755.ckpt\", \"deverb_bs_roformer_8_384dim_10depth\", \"denoise_mel_band_roformer_aufr33_sdr_27.9959.ckpt\", \"mel_band_roformer_karaoke_aufr33_viperx_sdr_10.1956.ckpt\", \"mel_band_roformer_karaoke_aufr33_viperx_sdr_10.1956.ckpt\", \"Mel-Roformer-Crowd-Aufr33-Viperx\", \"Mel-Roformer-Denoise-Aufr33\", \"Mel-Roformer-Denoise-Aufr33-Aggr\", \" MDX23C_D1581.ckpt\", \"MDX23C-8KFFT-InstVoc_HQ.ckpt\", \"MDX23C-8KFFT-InstVoc_HQ_2.ckpt\", \"UVR-MDX-NET-Inst_full_292.onnx\", \"UVR-MDX-NET_Inst_187_beta.onnx\", \"UVR-MDX-NET_Inst_82_beta.onnx\", \"UVR-MDX-NET_Inst_90_beta.onnx\", \"UVR-MDX-NET_Main_340.onnx\", \"UVR-MDX-NET_Main_390.onnx\", \"UVR-MDX-NET_Main_406.onnx\", \"UVR-MDX-NET_Main_427.onnx\", \"UVR-MDX-NET_Main_438.onnx\", \"UVR-MDX-NET-Inst_HQ_1.onnx\", \"UVR-MDX-NET-Inst_HQ_2.onnx\", \"UVR-MDX-NET-Inst_HQ_3.onnx\", \"UVR-MDX-NET-Inst_HQ_4.onnx\", \"UVR_MDXNET_Main.onnx\", \"UVR-MDX-NET-Inst_Main.onnx\", \"UVR_MDXNET_1_9703.onnx\", \"UVR_MDXNET_2_9682.onnx\", \"UVR_MDXNET_3_9662.onnx\", \"UVR-MDX-NET-Inst_1.onnx\", \"UVR-MDX-NET-Inst_2.onnx\", \"UVR-MDX-NET-Inst_3.onnx\", \"UVR_MDXNET_KARA.onnx\", \"UVR_MDXNET_KARA_2.onnx\", \"UVR_MDXNET_9482.onnx\", \"UVR-MDX-NET-Voc_FT.onnx\", \"Kim_Vocal_1.onnx\", \"Kim_Vocal_2.onnx\", \"Kim_Inst.onnx\", \"Reverb_HQ_By_FoxJoy.onnx\", \"UVR-MDX-NET_Crowd_HQ_1.onnx\", \"kuielab_a_vocals.onnx\", \"kuielab_a_other.onnx\", \"kuielab_a_bass.onnx\", \"kuielab_a_drums.onnx\", \"kuielab_b_vocals.onnx\", \"kuielab_b_other.onnx\", \"kuielab_b_bass.onnx\", \"kuielab_b_drums.onnx\", \"1_HP-UVR.pth\", \"2_HP-UVR.pth\", \"3_HP-Vocal-UVR.pth\", \"4_HP-Vocal-UVR.pth\", \"5_HP-Karaoke-UVR.pth\", \"6_HP-Karaoke-UVR.pth\", \"7_HP2-UVR.pth\", \"8_HP2-UVR.pth\", \"9_HP2-UVR.pth\", \"10_SP-UVR-2B-32000-1.pth\", \"11_SP-UVR-2B-32000-2.pth\", \"12_SP-UVR-3B-44100.pth\", \"13_SP-UVR-4B-44100-1.pth\", \"14_SP-UVR-4B-44100-2.pth\", \"15_SP-UVR-MID-44100-1.pth\", \"16_SP-UVR-MID-44100-2.pth\", \"17_HP-Wind_Inst-UVR.pth\", \"UVR-De-Echo-Aggressive.pth\", \"UVR-De-Echo-Normal.pth\", \"UVR-DeEcho-DeReverb.pth\", \"UVR-DeNoise-Lite.pth\", \"UVR-DeNoise.pth\", \"UVR-BVE-4B_SN-44100-1.pth\", \"MGM_HIGHEND_v4.pth\", \"MGM_LOWEND_A_v4.pth\", \"MGM_LOWEND_B_v4.pth\", \"MGM_MAIN_v4.pth\", \"drumsep\", \"htdemucs_ft.yaml\", \"htdemucs.yaml\", \"hdemucs_mmi.yaml\", \"htdemucs_6s.yaml\"]\n",
        "\n",
        "\n",
        "# Initialize the Separator class (with optional configuration properties, below)\n",
        "separator = Separator()\n",
        "\n",
        "# Load a machine learning model (if unspecified, defaults to 'model_mel_band_roformer_ep_3005_sdr_11.4360.ckpt')\n",
        "separator.load_model(model)\n",
        "\n",
        "# Perform the separation on specific audio files without reloading the model\n",
        "output_files = separator.separate(input, 'stem1', 'stem2')\n",
        "print(f\"Separation complete! Output file(s): {' '.join(output_files)}\")"
      ],
      "metadata": {
        "cellView": "form",
        "id": "LGFWniOOpJig"
      },
      "execution_count": null,
      "outputs": []
    },
    {
      "cell_type": "code",
      "source": [
        "#@title **separate your audio (with backing vocal)**\n",
        "\n",
        "\n",
        "import os\n",
        "from audio_separator.separator import Separator\n",
        "\n",
        "input = \"/content/ytdl/TikTok Sangat BERBAHAYA.wav\"#@param {type:\"string\"}\n",
        "output = \"/content/output\"#@param {type:\"string\"}\n",
        "\n",
        "separator = Separator(output_dir=output)\n",
        "\n",
        "# Vocals and Instrumental\n",
        "vocals = os.path.join(output, 'Vocals.wav')\n",
        "instrumental = os.path.join(output, 'Instrumental.wav')\n",
        "\n",
        "\n",
        "# Lead Vocals and Backing Vocals\n",
        "lead_vocals = os.path.join(output, 'Lead Vocals.wav')\n",
        "backing_vocals = os.path.join(output, 'Backing Vocals.wav')\n",
        "\n",
        "# Splitting a track into Vocal and Instrumental\n",
        "separator.load_model(model_filename='model_bs_roformer_ep_317_sdr_12.9755.ckpt')\n",
        "voc_inst = separator.separate(input)\n",
        "os.rename(os.path.join(output, voc_inst[0]), instrumental) # Rename file to “Instrumental.wav”\n",
        "os.rename(os.path.join(output, voc_inst[1]), vocals) # Rename file to “Vocals.wav”\n",
        "\n",
        "\n",
        "# Separating Back Vocals from Main Vocals\n",
        "separator.load_model(model_filename='mel_band_roformer_karaoke_aufr33_viperx_sdr_10.1956.ckpt')\n",
        "backing_voc = separator.separate(vocals)\n",
        "os.rename(os.path.join(output, backing_voc[0]), backing_vocals) # Rename file to “Backing Vocals.wav”\n",
        "os.rename(os.path.join(output, backing_voc[1]), lead_vocals) # Rename file to “Lead Vocals.wav”"
      ],
      "metadata": {
        "cellView": "form",
        "id": "7B90JHsBpNju"
      },
      "execution_count": null,
      "outputs": []
    },
    {
      "cell_type": "code",
      "source": [
        "#@title play your output\n",
        "\n",
        "\n",
        "from pydub import AudioSegment\n",
        "\n",
        "audio_path = '/content/stem1.wav' #@param {type:\"string\"}\n",
        "\n",
        "\n",
        "AudioSegment.from_wav(audio_path)"
      ],
      "metadata": {
        "cellView": "form",
        "id": "vFNylL-bpUnl"
      },
      "execution_count": null,
      "outputs": []
    },
    {
      "cell_type": "markdown",
      "source": [
        "## **RUN UI**"
      ],
      "metadata": {
        "id": "Bp60W2IgperB"
      }
    },
    {
      "cell_type": "code",
      "source": [
        "\n",
        "#@title  Run Gradio Webui\n",
        "\n",
        "\n",
        "!python demo.py"
      ],
      "metadata": {
        "cellView": "form",
        "id": "8gZ_4-WepcLG"
      },
      "execution_count": null,
      "outputs": []
    }
  ]
}